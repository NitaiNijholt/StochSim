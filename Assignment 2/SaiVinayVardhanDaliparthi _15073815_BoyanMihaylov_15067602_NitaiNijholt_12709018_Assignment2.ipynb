{
 "cells": [
  {
   "cell_type": "code",
   "execution_count": null,
   "metadata": {},
   "outputs": [],
   "source": [
    "# Stochastic Simulation Assignment 2\n",
    "\n",
    "## Computing the Area of the Mandelbrot Set"
   ]
  },
  {
   "cell_type": "markdown",
   "metadata": {},
   "source": [
    "# Stochastic Simulation Assignment 2\n",
    "\n",
    "## Computing the Area of the Mandelbrot Set"
   ]
  },
  {
   "cell_type": "markdown",
   "metadata": {},
   "source": [
    "_Authors: Sai Vinay Vardhan Daliparthi (15073815), Boyan Mihaylov (15067602), Nitai Nijholt (12709018)_"
   ]
  },
  {
   "cell_type": "markdown",
   "metadata": {},
   "source": [
    "1) Queuing theory tells us that for FIFO scheduling the average waiting times are shorter for an\n",
    "M/M/n queue and a system load ρ and processor capacity μ than for a single M/M/1 queue\n",
    "with the same load characteristics (and thus an n-fold lower arrival rate). Of course, ρ must be\n",
    "less than one, but the experiment only becomes interesting when ρ is not much less than one.\n",
    "Look up and/or derive this theoretical result, at least for n=2. Describe how it is\n",
    "derived. Can you also give a non-mathematical explanation? "
   ]
  },
  {
   "cell_type": "markdown",
   "metadata": {},
   "source": [
    "Statement to prove: $W_{n} \\leq W_{1}$ \n",
    "\n",
    "Facts & Definitions:\n",
    "\n",
    "1. systemload 1 server = $\\rho_{1} = \\frac{\\lambda_{1}}{\\mu} $ [1]\n",
    "2. systemload n servers = $\\rho_{n} = \\frac{\\lambda_{n}}{n\\mu}$ [2]\n",
    "3. It is given that the load characteristics of the system are equal, meaning $\\rho_{1} = \\rho_{n}$ where $\\rho$ represents system load [3]\n",
    "4. Little's law = $L = \\lambda W$ [4]\n",
    "\n",
    "Where \\rho represents system load\n",
    "\n",
    "\n",
    "\n",
    "From 3, we know: $\\rho_{1} = \\rho_{n}$ because the question gives that the load characteristics of the system are equal we assume $\\mu_{1} = \\mu_{n}$ \n",
    "\n",
    "Hence: $\\rho_{1} = \\rho_{n} = \\frac{\\lambda_{1}} {\\mu}  = \\frac{\\lambda_{n}}{n\\mu} $ [6]\n",
    "\n",
    "From  6 we can see that:\n",
    "\n",
    "$\\lambda_{1} = \\frac{\\lambda_{n}}{n\\mu}$, so for a system with n servers there is an n-fold lower arrival rate. [7]\n",
    "\n",
    "\n",
    "We can rewrite Little law to get an expression for average waiting time W:\n",
    "\n",
    "$W = \\frac{L}{\\lambda}$ [4]\n",
    "\n",
    "\n",
    "We set out to prove $W_{n} \\lt W_{1}$ by using 4 and rewriting Little Law, and then substituting in $\\lambda$ :\n",
    "\n",
    "\n",
    "$\\frac{L}{\\lambda_{n}}$ $\\lt$ $\\frac{L}{\\lambda_{1}}$ \n",
    "\n",
    "\n",
    "We assume the average length of the que, $L$, is the same and using 7, we find:\n",
    "\n",
    "\n",
    "$\\frac{L}{\\lambda_{n}}$ $\\lt$  $\\frac{L}{\\frac{\\lambda_{1}}{n}}$ \n",
    "\n",
    "\n",
    "$\\frac{L}{\\lambda_{n}}$  $\\lt$ $\\frac{nL}{\\lambda_{1}}$ \n",
    "\n",
    "So for any n > 1, the average waiting time of a 1 server system is always higher than an n server system. This proof assumes that the system is in a steady state."
   ]
  },
  {
   "cell_type": "markdown",
   "metadata": {},
   "source": [
    "2) Write a DES program to verify this for n=1, n=2 and n=4. Make sure that your result\n",
    "has a high and known statistical significance. How does the number of measurements"
   ]
  },
  {
   "cell_type": "markdown",
   "metadata": {},
   "source": [
    "3) Also compare the result to that for an M/M/1 queue with shortest job first scheduling,\n",
    "where you always give priority to the smallest jobs."
   ]
  },
  {
   "cell_type": "markdown",
   "metadata": {},
   "source": [
    "\n",
    "4) Now experiment with different service rate distributions. On the one hand try the\n",
    "M/D/1 and M/D/n queues, on the other hand try a long-tail distribution. For the latter\n",
    "you may e.g. use a distribution where 75% of the jobs have an exponential distribution\n",
    "with an average service time of 1.0 and the remaining 25% an exponential distribution\n",
    "with an average service time of 5.0 (an example of a hyperexponential distribution).\n",
    "Write your program using SimPy."
   ]
  }
 ],
 "metadata": {
  "language_info": {
   "name": "python"
  }
 },
 "nbformat": 4,
 "nbformat_minor": 2
}
