{
 "cells": [
  {
   "cell_type": "markdown",
   "metadata": {},
   "source": [
    "# Assignment 3: Finding The Minimal Energy Configuration Of Charge Particle Within A Circle"
   ]
  },
  {
   "cell_type": "markdown",
   "metadata": {},
   "source": [
    "\n",
    "_Authors: Sai Vinay Vardhan Daliparthi (15073815), Boyan Mihaylov (15067602), Nitai Nijholt (12709018)_"
   ]
  },
  {
   "cell_type": "code",
   "execution_count": 5,
   "metadata": {},
   "outputs": [],
   "source": [
    "# Imports\n",
    "import numpy as np\n",
    "import pandas as pd\n",
    "import matplotlib.pyplot as plt\n",
    "import seaborn as sns\n",
    "import scipy as sp\n",
    "from typing import List, Tuple\n",
    "from itertools import product, combinations"
   ]
  },
  {
   "cell_type": "markdown",
   "metadata": {},
   "source": [
    "Energy of between two patricles is given by:\n",
    "\n",
    "$E_{i,j}=\\dfrac{1}{|_{i,j}|}$\n",
    "\n",
    "\n",
    "Force on 2 particles:\n",
    "\n",
    "\n",
    "$\\vec F_{i,j}=\\frac{\\vec r_{i,j}}{|r_{i,j}|^3}$\n",
    "\n",
    "\n",
    "Source: Assignment 3 description"
   ]
  },
  {
   "cell_type": "code",
   "execution_count": 6,
   "metadata": {},
   "outputs": [],
   "source": [
    "def get_force_2_particles(p_i, p_j, coulomb_constant=1):\n",
    "    \"\"\"\n",
    "    Calculate the electrostatic force between two particles.\n",
    "\n",
    "    This function assumes that the particles follow Coulomb's Law,\n",
    "    where the force magnitude is proportional to 1/distance^2.\n",
    "\n",
    "    Args:\n",
    "        p_i (tuple): Position (x, y) of the first particle.\n",
    "        p_j (tuple): Position (x, y) of the second particle.\n",
    "        coulomb_constant (float, optional): Coulomb's constant, default is 1 for normalized calculations.\n",
    "\n",
    "    Returns:\n",
    "        numpy.ndarray: The vector representing the force exerted on the first particle by the second.\n",
    "    \"\"\"\n",
    "\n",
    "    # Convert positions to numpy arrays for vectorized operations\n",
    "    p_i, p_j = np.array(p_i), np.array(p_j)\n",
    "\n",
    "    # Calculate the displacement vector from particle j to i\n",
    "    r_i_j = p_i - p_j\n",
    "\n",
    "    # Compute the Euclidean distance between particles\n",
    "    dist_i_j = np.linalg.norm(r_i_j)\n",
    "\n",
    "    # Calculate the force vector using Coulomb's Law (considering force magnitude and direction)\n",
    "    Force_i_j = coulomb_constant * r_i_j / (dist_i_j**3)\n",
    "\n",
    "    return Force_i_j\n",
    "\n",
    "\n",
    "def get_energy_2_particles(p_i, p_j, coulomb_constant=1):\n",
    "    \"\"\"\n",
    "    Calculate the potential energy between two particles based on Coulomb's Law.\n",
    "\n",
    "    The potential energy is inversely proportional to the distance between the particles.\n",
    "\n",
    "    Args:\n",
    "        p_i (tuple): Position (x, y) of the first particle.\n",
    "        p_j (tuple): Position (x, y) of the second particle.\n",
    "        coulomb_constant (float, optional): Coulomb's constant, default is 1 for normalized calculations.\n",
    "\n",
    "    Returns:\n",
    "        float: The scalar value of the potential energy between the two particles.\n",
    "    \"\"\"\n",
    "\n",
    "    # Convert positions to numpy arrays for vectorized operations\n",
    "    p_i, p_j = np.array(p_i), np.array(p_j)\n",
    "\n",
    "    # Compute the Euclidean distance between particles\n",
    "    dist_i_j = np.linalg.norm(p_i - p_j)\n",
    "\n",
    "    # Calculate the potential energy using Coulomb's Law\n",
    "    Energy_i_j = coulomb_constant / dist_i_j\n",
    "\n",
    "    return Energy_i_j\n"
   ]
  },
  {
   "cell_type": "code",
   "execution_count": 7,
   "metadata": {},
   "outputs": [],
   "source": [
    "\n",
    "def get_energy_all_particles(list_of_particles):\n",
    "    \"\"\"\n",
    "    Calculate the total potential energy of a system of particles.\n",
    "    \n",
    "    Args:\n",
    "        list_of_particles (list or numpy.ndarray): A list of tuples or an n x 2 matrix representing the positions of n particles.\n",
    "\n",
    "    Returns:\n",
    "        float: The total potential energy of the system.\n",
    "    \"\"\"\n",
    "\n",
    "    # Convert list of tuples to numpy array if it isn't already\n",
    "    if not isinstance(list_of_particles, np.ndarray):\n",
    "        list_of_particles = np.array([list(row) for row in list_of_particles])\n",
    "\n",
    "    # Initialize list to store energies\n",
    "    energies = []\n",
    "\n",
    "    # Calculate energy between each unique pair of particles\n",
    "    for p_i, p_j in combinations(list_of_particles, 2):\n",
    "        energy_of_combi = get_energy_2_particles(p_i, p_j)\n",
    "        energies.append(energy_of_combi)\n",
    "    \n",
    "    # Convert list of energies to numpy array and sum them to get total energy\n",
    "    total_energy = np.sum(np.array(energies))\n",
    "\n",
    "    return total_energy\n",
    "\n",
    "def get_total_force_all_particles(list_of_particles):\n",
    "    \"\"\"\n",
    "    Calculate the total system force for a collection of particles.\n",
    "    \n",
    "    Args:\n",
    "        list_of_particles (list or numpy.ndarray): A list of tuples or an n x 2 matrix representing the positions of n particles.\n",
    "\n",
    "    Returns:\n",
    "        numpy.ndarray: A 2-element vector representing the total force on the system.\n",
    "    \"\"\"\n",
    "\n",
    "    # Convert list of tuples to numpy array if it isn't already\n",
    "    if not isinstance(list_of_particles, np.ndarray):\n",
    "        list_of_particles = np.array([list(row) for row in list_of_particles])\n",
    "\n",
    "    # Initialize a 2D vector to store the total force\n",
    "    total_force = np.zeros(2)  # Assuming 2D particles\n",
    "\n",
    "    # Calculate force between each unique pair of particles and sum them\n",
    "    for p_i, p_j in combinations(list_of_particles, 2):\n",
    "        force_ij = get_force_2_particles(p_i, p_j)\n",
    "        total_force += force_ij\n",
    "\n",
    "    return total_force"
   ]
  },
  {
   "cell_type": "code",
   "execution_count": 8,
   "metadata": {},
   "outputs": [
    {
     "name": "stdout",
     "output_type": "stream",
     "text": [
      "force [-0.35355339 -0.35355339]\n"
     ]
    }
   ],
   "source": [
    "p_i = (0,1)\n",
    "p_j = (1,2)\n",
    "force = get_force_2_particles(p_i,p_j)\n",
    "print('force', force)"
   ]
  },
  {
   "cell_type": "code",
   "execution_count": null,
   "metadata": {},
   "outputs": [],
   "source": []
  }
 ],
 "metadata": {
  "kernelspec": {
   "display_name": "Python 3",
   "language": "python",
   "name": "python3"
  },
  "language_info": {
   "codemirror_mode": {
    "name": "ipython",
    "version": 3
   },
   "file_extension": ".py",
   "mimetype": "text/x-python",
   "name": "python",
   "nbconvert_exporter": "python",
   "pygments_lexer": "ipython3",
   "version": "3.11.7"
  }
 },
 "nbformat": 4,
 "nbformat_minor": 2
}
